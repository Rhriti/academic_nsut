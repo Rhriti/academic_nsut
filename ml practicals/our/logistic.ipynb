{
  "nbformat": 4,
  "nbformat_minor": 0,
  "metadata": {
    "colab": {
      "name": "logistic.ipynb",
      "provenance": []
    },
    "kernelspec": {
      "name": "python3",
      "display_name": "Python 3"
    },
    "language_info": {
      "name": "python"
    }
  },
  "cells": [
    {
      "cell_type": "code",
      "metadata": {
        "id": "CLXz7wWu7b6s"
      },
      "source": [
        "import pandas as pd\n",
        "from sklearn.model_selection import train_test_split\n",
        "from sklearn.linear_model import LogisticRegression\n",
        "from sklearn import metrics\n",
        "import seaborn as sn\n",
        "import matplotlib.pyplot as plt"
      ],
      "execution_count": null,
      "outputs": []
    },
    {
      "cell_type": "code",
      "metadata": {
        "id": "VYpObjmY8NSo"
      },
      "source": [
        "col_names= ['age', 'workclass', 'fnlwgt', 'education', 'education-num', 'marital-status', 'occupation', 'relationships', 'race', 'sex', 'capital-gain', 'capital-loss', 'house-per-week', 'native-country', 'decision']\n",
        "df = pd.read_csv(\"adult_data.csv\", names=col_names)\n",
        "df"
      ],
      "execution_count": null,
      "outputs": []
    },
    {
      "cell_type": "code",
      "metadata": {
        "id": "ENCanRSn_1dh"
      },
      "source": [
        "pd.unique(df.workclass)\n",
        "workclass = {' State-gov': 0, ' Self-emp-not-inc':1, ' Private': 2, ' Federal-gov': 3, ' Local-gov': 4, ' ?': 5, ' Self-emp-inc': 6, ' Without-pay': 7, ' Never-worked': 8}\n",
        "df.workclass = [workclass[item] for item in df.workclass]\n",
        "df.workclass"
      ],
      "execution_count": null,
      "outputs": []
    },
    {
      "cell_type": "code",
      "metadata": {
        "id": "htP2z_HzDvva"
      },
      "source": [
        "pd.unique(df.education)\n",
        "education = {' Bachelors': 0, ' HS-grad': 1, ' 11th': 2, ' Masters': 3, ' 9th': 4, ' Some-college': 5, ' Assoc-acdm': 6, ' Assoc-voc':7, ' 7th-8th': 8, ' Doctorate': 9, ' Prof-school': 10, ' 5th-6th': 11, ' 10th': 12, ' 1st-4th': 13, ' Preschool': 14, ' 12th': 15 }\n",
        "df.education = [education[item] for item in df.education]\n",
        "df.education"
      ],
      "execution_count": null,
      "outputs": []
    },
    {
      "cell_type": "code",
      "metadata": {
        "id": "abhMbEWN8iWW"
      },
      "source": [
        "feature_cols = ['age', 'workclass', 'education']\n",
        "X = df[feature_cols]\n",
        "Y = df.decision\n"
      ],
      "execution_count": null,
      "outputs": []
    },
    {
      "cell_type": "code",
      "metadata": {
        "colab": {
          "base_uri": "https://localhost:8080/"
        },
        "id": "Xm3mw_t4BXRV",
        "outputId": "f0cd8c28-8758-4369-fb95-2a5ca663ae23"
      },
      "source": [
        "lr = LogisticRegression()\n",
        "lr.fit(X, Y)"
      ],
      "execution_count": null,
      "outputs": [
        {
          "output_type": "execute_result",
          "data": {
            "text/plain": [
              "LogisticRegression(C=1.0, class_weight=None, dual=False, fit_intercept=True,\n",
              "                   intercept_scaling=1, l1_ratio=None, max_iter=100,\n",
              "                   multi_class='auto', n_jobs=None, penalty='l2',\n",
              "                   random_state=None, solver='lbfgs', tol=0.0001, verbose=0,\n",
              "                   warm_start=False)"
            ]
          },
          "metadata": {},
          "execution_count": 24
        }
      ]
    },
    {
      "cell_type": "code",
      "metadata": {
        "colab": {
          "base_uri": "https://localhost:8080/"
        },
        "id": "xLa9pWFAHyTk",
        "outputId": "d41e9422-7aed-4972-8987-f727303f6871"
      },
      "source": [
        "Y_pred = lr.predict(X)\n",
        "Y_pred"
      ],
      "execution_count": null,
      "outputs": [
        {
          "output_type": "execute_result",
          "data": {
            "text/plain": [
              "array([' <=50K', ' <=50K', ' <=50K', ..., ' <=50K', ' <=50K', ' <=50K'],\n",
              "      dtype=object)"
            ]
          },
          "metadata": {},
          "execution_count": 30
        }
      ]
    },
    {
      "cell_type": "code",
      "metadata": {
        "colab": {
          "base_uri": "https://localhost:8080/",
          "height": 282
        },
        "id": "KZ97p-ROJsKT",
        "outputId": "16d56756-4017-4601-9171-3e14dd4ff063"
      },
      "source": [
        "cm = metrics.confusion_matrix(df.decision, Y_pred)\n",
        "sn.heatmap(cm, annot=True)"
      ],
      "execution_count": null,
      "outputs": [
        {
          "output_type": "execute_result",
          "data": {
            "text/plain": [
              "<matplotlib.axes._subplots.AxesSubplot at 0x7fc5ad7cc2d0>"
            ]
          },
          "metadata": {},
          "execution_count": 32
        },
        {
          "output_type": "display_data",
          "data": {
            "image/png": "[encoded data removed]",
            "text/plain": [
              "<Figure size 432x288 with 2 Axes>"
            ]
          },
          "metadata": {
            "needs_background": "light"
          }
        }
      ]
    },
    {
      "cell_type": "code",
      "metadata": {
        "colab": {
          "base_uri": "https://localhost:8080/"
        },
        "id": "u_gboczaKN0w",
        "outputId": "45ec0fda-396c-4bb9-fb33-330e03b7cfbb"
      },
      "source": [
        "accuracy = metrics.accuracy_score(df.decision, Y_pred)\n",
        "accuracy*100"
      ],
      "execution_count": null,
      "outputs": [
        {
          "output_type": "execute_result",
          "data": {
            "text/plain": [
              "74.55544977119868"
            ]
          },
          "metadata": {},
          "execution_count": 34
        }
      ]
    }
  ]
}